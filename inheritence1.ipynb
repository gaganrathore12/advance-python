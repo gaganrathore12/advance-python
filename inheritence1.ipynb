{
 "cells": [
  {
   "cell_type": "code",
   "execution_count": 4,
   "id": "43c4067e-2416-4280-845a-856bdc593cdf",
   "metadata": {},
   "outputs": [
    {
     "name": "stdout",
     "output_type": "stream",
     "text": [
      "insta works\n",
      "insta works\n"
     ]
    }
   ],
   "source": [
    "class A:\n",
    "    def insta(myself):\n",
    "        print(\"insta works\")\n",
    "    def insta2(myself):\n",
    "        print(\"insta works\")\n",
    "A1 = A()\n",
    "A1.insta()\n",
    "A1.insta2()"
   ]
  },
  {
   "cell_type": "code",
   "execution_count": 5,
   "id": "3b454eac-a4c8-4cff-89cc-facb44e55a27",
   "metadata": {},
   "outputs": [
    {
     "name": "stdout",
     "output_type": "stream",
     "text": [
      "gagan is running\n",
      "gagan is still runing\n"
     ]
    }
   ],
   "source": [
    "class A:\n",
    "    def gagan(myself):\n",
    "        print(\"gagan is running\")\n",
    "    def gagan1(myself):\n",
    "        print(\"gagan is still runing\")\n",
    "\n",
    "A1=A()\n",
    "A1.gagan()\n",
    "A1.gagan1()"
   ]
  },
  {
   "cell_type": "code",
   "execution_count": 10,
   "id": "7cafa67c-1da0-4de4-9bf9-b023944f1cdd",
   "metadata": {},
   "outputs": [
    {
     "name": "stdout",
     "output_type": "stream",
     "text": [
      "insta is working\n",
      "insta is running\n",
      "insta is logout\n",
      "insta is login\n"
     ]
    }
   ],
   "source": [
    "class A:\n",
    "    def insta1(myself):\n",
    "        print(\"insta is working\")\n",
    "    def insta2(myself):\n",
    "        print(\"insta is running\")\n",
    "\n",
    "class B(A):\n",
    "    def insta3(myself):\n",
    "        print(\"insta is logout\")\n",
    "    def insta4(myself):\n",
    "        print(\"insta is login\")\n",
    "\n",
    "B1=B()\n",
    "B1.insta1()\n",
    "B1.insta2()\n",
    "B1.insta3()\n",
    "B1.insta4()\n"
   ]
  },
  {
   "cell_type": "code",
   "execution_count": 11,
   "id": "0848aa48-a8ab-4280-a144-51e6d1911e6a",
   "metadata": {},
   "outputs": [
    {
     "name": "stdout",
     "output_type": "stream",
     "text": [
      "insta is working\n",
      "insta is logout\n",
      "insta is install\n"
     ]
    }
   ],
   "source": [
    "class A:\n",
    "    def insta1(myself):\n",
    "        print(\"insta is working\")\n",
    "    def insta2(myself):\n",
    "        print(\"insta is running\")\n",
    "\n",
    "class B(A):\n",
    "    def insta3(myself):\n",
    "        print(\"insta is logout\")\n",
    "    def insta4(myself):\n",
    "        print(\"insta is login\")\n",
    "\n",
    "class C(B):\n",
    "    def insta5(myself):\n",
    "        print(\"insta is install\")\n",
    "    def insta6(myself):\n",
    "        print(\"insta is unstall\")\n",
    "\n",
    "C1=C()\n",
    "C1.insta1()\n",
    "C1.insta3()\n",
    "C1.insta5()"
   ]
  },
  {
   "cell_type": "code",
   "execution_count": null,
   "id": "59495af7-0ae3-481a-b66c-e9efc6cc479d",
   "metadata": {},
   "outputs": [],
   "source": []
  }
 ],
 "metadata": {
  "kernelspec": {
   "display_name": "Python 3 (ipykernel)",
   "language": "python",
   "name": "python3"
  },
  "language_info": {
   "codemirror_mode": {
    "name": "ipython",
    "version": 3
   },
   "file_extension": ".py",
   "mimetype": "text/x-python",
   "name": "python",
   "nbconvert_exporter": "python",
   "pygments_lexer": "ipython3",
   "version": "3.12.7"
  }
 },
 "nbformat": 4,
 "nbformat_minor": 5
}
